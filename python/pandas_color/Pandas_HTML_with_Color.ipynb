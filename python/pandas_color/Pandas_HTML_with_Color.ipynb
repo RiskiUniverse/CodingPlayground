{
 "cells": [
  {
   "cell_type": "code",
   "execution_count": 8,
   "metadata": {
    "collapsed": false
   },
   "outputs": [
    {
     "name": "stdout",
     "output_type": "stream",
     "text": [
      "                  00 UTC    06 UTC    12 UTC    18 UTC\n",
      "Midland    WRF  1.519593  0.886883 -0.633269  1.432492\n",
      "           MOS -0.438961 -0.589999  0.585331 -0.857149\n",
      "Hereford   WRF  1.349844  0.963072 -0.578086 -0.660738\n",
      "           MOS  0.236955 -0.183058  0.973471  0.839803\n",
      "Hobbs      WRF -0.885047  0.882342 -0.650049 -0.367684\n",
      "           MOS -0.328883  0.441916  0.587652 -0.475075\n",
      "Childress  WRF  0.606404 -0.452604  0.834073 -0.649894\n",
      "           MOS  0.038253 -0.168527  0.298252 -0.794876\n",
      "Reese      WRF  1.072264  0.626380  0.549550 -0.143682\n",
      "           MOS -0.580161  0.633863 -0.540406 -0.434136\n",
      "San Angelo WRF  2.107913  0.733523  1.300856  0.546467\n",
      "           MOS  0.066994  0.139666 -1.489201  0.092602\n"
     ]
    }
   ],
   "source": [
    "run pandas_color.py"
   ]
  },
  {
   "cell_type": "code",
   "execution_count": 9,
   "metadata": {
    "collapsed": false
   },
   "outputs": [
    {
     "data": {
      "text/plain": [
       "'\\n    <style>\\n        table#id891318 tr:hover {background-color: #f5f5f5}\\n    </style>\\n    '"
      ]
     },
     "execution_count": 9,
     "metadata": {},
     "output_type": "execute_result"
    }
   ],
   "source": [
    "style"
   ]
  },
  {
   "cell_type": "code",
   "execution_count": 10,
   "metadata": {
    "collapsed": false
   },
   "outputs": [
    {
     "data": {
      "text/plain": [
       "'<table id=id891318  border=\"1\" class=\"dataframe\">\\n  <thead>\\n    <tr style=\"text-align: right;\">\\n      <th></th>\\n      <th></th>\\n      <th>00 UTC</th>\\n      <th>06 UTC</th>\\n      <th>12 UTC</th>\\n      <th>18 UTC</th>\\n    </tr>\\n  </thead>\\n  <tbody>\\n    <tr>\\n      <th rowspan=\"2\" valign=\"top\">Midland</th>\\n      <th>WRF</th>\\n      <td>1.519593</td>\\n      <td>0.886883</td>\\n      <td>-0.633269</td>\\n      <td>1.432492</td>\\n    </tr>\\n    <tr>\\n      <th>MOS</th>\\n      <td>-0.438961</td>\\n      <td>-0.589999</td>\\n      <td>0.585331</td>\\n      <td>-0.857149</td>\\n    </tr>\\n    <tr>\\n      <th rowspan=\"2\" valign=\"top\">Hereford</th>\\n      <th>WRF</th>\\n      <td>1.349844</td>\\n      <td>0.963072</td>\\n      <td>-0.578086</td>\\n      <td>-0.660738</td>\\n    </tr>\\n    <tr>\\n      <th>MOS</th>\\n      <td>0.236955</td>\\n      <td>-0.183058</td>\\n      <td>0.973471</td>\\n      <td>0.839803</td>\\n    </tr>\\n    <tr>\\n      <th rowspan=\"2\" valign=\"top\">Hobbs</th>\\n      <th>WRF</th>\\n      <td>-0.885047</td>\\n      <td>0.882342</td>\\n      <td>-0.650049</td>\\n      <td>-0.367684</td>\\n    </tr>\\n    <tr>\\n      <th>MOS</th>\\n      <td>-0.328883</td>\\n      <td>0.441916</td>\\n      <td>0.587652</td>\\n      <td>-0.475075</td>\\n    </tr>\\n    <tr>\\n      <th rowspan=\"2\" valign=\"top\">Childress</th>\\n      <th>WRF</th>\\n      <td>0.606404</td>\\n      <td>-0.452604</td>\\n      <td>0.834073</td>\\n      <td>-0.649894</td>\\n    </tr>\\n    <tr>\\n      <th>MOS</th>\\n      <td>0.038253</td>\\n      <td>-0.168527</td>\\n      <td>0.298252</td>\\n      <td>-0.794876</td>\\n    </tr>\\n    <tr>\\n      <th rowspan=\"2\" valign=\"top\">Reese</th>\\n      <th>WRF</th>\\n      <td>1.072264</td>\\n      <td>0.626380</td>\\n      <td>0.549550</td>\\n      <td>-0.143682</td>\\n    </tr>\\n    <tr>\\n      <th>MOS</th>\\n      <td>-0.580161</td>\\n      <td>0.633863</td>\\n      <td>-0.540406</td>\\n      <td>-0.434136</td>\\n    </tr>\\n    <tr>\\n      <th rowspan=\"2\" valign=\"top\">San Angelo</th>\\n      <th>WRF</th>\\n      <td>2.107913</td>\\n      <td>0.733523</td>\\n      <td>1.300856</td>\\n      <td>0.546467</td>\\n    </tr>\\n    <tr>\\n      <th>MOS</th>\\n      <td>0.066994</td>\\n      <td>0.139666</td>\\n      <td>-1.489201</td>\\n      <td>0.092602</td>\\n    </tr>\\n  </tbody>\\n</table>'"
      ]
     },
     "execution_count": 10,
     "metadata": {},
     "output_type": "execute_result"
    }
   ],
   "source": [
    "df_html"
   ]
  },
  {
   "cell_type": "code",
   "execution_count": 11,
   "metadata": {
    "collapsed": false
   },
   "outputs": [
    {
     "data": {
      "text/html": [
       "<table id=id891318  border=\"1\" class=\"dataframe\">\n",
       "  <thead>\n",
       "    <tr style=\"text-align: right;\">\n",
       "      <th></th>\n",
       "      <th></th>\n",
       "      <th>00 UTC</th>\n",
       "      <th>06 UTC</th>\n",
       "      <th>12 UTC</th>\n",
       "      <th>18 UTC</th>\n",
       "    </tr>\n",
       "  </thead>\n",
       "  <tbody>\n",
       "    <tr>\n",
       "      <th rowspan=\"2\" valign=\"top\">Midland</th>\n",
       "      <th>WRF</th>\n",
       "      <td>1.519593</td>\n",
       "      <td>0.886883</td>\n",
       "      <td>-0.633269</td>\n",
       "      <td>1.432492</td>\n",
       "    </tr>\n",
       "    <tr>\n",
       "      <th>MOS</th>\n",
       "      <td>-0.438961</td>\n",
       "      <td>-0.589999</td>\n",
       "      <td>0.585331</td>\n",
       "      <td>-0.857149</td>\n",
       "    </tr>\n",
       "    <tr>\n",
       "      <th rowspan=\"2\" valign=\"top\">Hereford</th>\n",
       "      <th>WRF</th>\n",
       "      <td>1.349844</td>\n",
       "      <td>0.963072</td>\n",
       "      <td>-0.578086</td>\n",
       "      <td>-0.660738</td>\n",
       "    </tr>\n",
       "    <tr>\n",
       "      <th>MOS</th>\n",
       "      <td>0.236955</td>\n",
       "      <td>-0.183058</td>\n",
       "      <td>0.973471</td>\n",
       "      <td>0.839803</td>\n",
       "    </tr>\n",
       "    <tr>\n",
       "      <th rowspan=\"2\" valign=\"top\">Hobbs</th>\n",
       "      <th>WRF</th>\n",
       "      <td>-0.885047</td>\n",
       "      <td>0.882342</td>\n",
       "      <td>-0.650049</td>\n",
       "      <td>-0.367684</td>\n",
       "    </tr>\n",
       "    <tr>\n",
       "      <th>MOS</th>\n",
       "      <td>-0.328883</td>\n",
       "      <td>0.441916</td>\n",
       "      <td>0.587652</td>\n",
       "      <td>-0.475075</td>\n",
       "    </tr>\n",
       "    <tr>\n",
       "      <th rowspan=\"2\" valign=\"top\">Childress</th>\n",
       "      <th>WRF</th>\n",
       "      <td>0.606404</td>\n",
       "      <td>-0.452604</td>\n",
       "      <td>0.834073</td>\n",
       "      <td>-0.649894</td>\n",
       "    </tr>\n",
       "    <tr>\n",
       "      <th>MOS</th>\n",
       "      <td>0.038253</td>\n",
       "      <td>-0.168527</td>\n",
       "      <td>0.298252</td>\n",
       "      <td>-0.794876</td>\n",
       "    </tr>\n",
       "    <tr>\n",
       "      <th rowspan=\"2\" valign=\"top\">Reese</th>\n",
       "      <th>WRF</th>\n",
       "      <td>1.072264</td>\n",
       "      <td>0.626380</td>\n",
       "      <td>0.549550</td>\n",
       "      <td>-0.143682</td>\n",
       "    </tr>\n",
       "    <tr>\n",
       "      <th>MOS</th>\n",
       "      <td>-0.580161</td>\n",
       "      <td>0.633863</td>\n",
       "      <td>-0.540406</td>\n",
       "      <td>-0.434136</td>\n",
       "    </tr>\n",
       "    <tr>\n",
       "      <th rowspan=\"2\" valign=\"top\">San Angelo</th>\n",
       "      <th>WRF</th>\n",
       "      <td>2.107913</td>\n",
       "      <td>0.733523</td>\n",
       "      <td>1.300856</td>\n",
       "      <td>0.546467</td>\n",
       "    </tr>\n",
       "    <tr>\n",
       "      <th>MOS</th>\n",
       "      <td>0.066994</td>\n",
       "      <td>0.139666</td>\n",
       "      <td>-1.489201</td>\n",
       "      <td>0.092602</td>\n",
       "    </tr>\n",
       "  </tbody>\n",
       "</table>"
      ],
      "text/plain": [
       "<IPython.core.display.HTML object>"
      ]
     },
     "execution_count": 11,
     "metadata": {},
     "output_type": "execute_result"
    }
   ],
   "source": [
    "HTML(df_html)"
   ]
  },
  {
   "cell_type": "code",
   "execution_count": 12,
   "metadata": {
    "collapsed": false
   },
   "outputs": [
    {
     "data": {
      "text/html": [
       "\n",
       "    <style>\n",
       "        table#id891318 tr:hover {background-color: #f5f5f5}\n",
       "    </style>\n",
       "    <table id=id891318  border=\"1\" class=\"dataframe\">\n",
       "  <thead>\n",
       "    <tr style=\"text-align: right;\">\n",
       "      <th></th>\n",
       "      <th></th>\n",
       "      <th>00 UTC</th>\n",
       "      <th>06 UTC</th>\n",
       "      <th>12 UTC</th>\n",
       "      <th>18 UTC</th>\n",
       "    </tr>\n",
       "  </thead>\n",
       "  <tbody>\n",
       "    <tr>\n",
       "      <th rowspan=\"2\" valign=\"top\">Midland</th>\n",
       "      <th>WRF</th>\n",
       "      <td>1.519593</td>\n",
       "      <td>0.886883</td>\n",
       "      <td>-0.633269</td>\n",
       "      <td>1.432492</td>\n",
       "    </tr>\n",
       "    <tr>\n",
       "      <th>MOS</th>\n",
       "      <td>-0.438961</td>\n",
       "      <td>-0.589999</td>\n",
       "      <td>0.585331</td>\n",
       "      <td>-0.857149</td>\n",
       "    </tr>\n",
       "    <tr>\n",
       "      <th rowspan=\"2\" valign=\"top\">Hereford</th>\n",
       "      <th>WRF</th>\n",
       "      <td>1.349844</td>\n",
       "      <td>0.963072</td>\n",
       "      <td>-0.578086</td>\n",
       "      <td>-0.660738</td>\n",
       "    </tr>\n",
       "    <tr>\n",
       "      <th>MOS</th>\n",
       "      <td>0.236955</td>\n",
       "      <td>-0.183058</td>\n",
       "      <td>0.973471</td>\n",
       "      <td>0.839803</td>\n",
       "    </tr>\n",
       "    <tr>\n",
       "      <th rowspan=\"2\" valign=\"top\">Hobbs</th>\n",
       "      <th>WRF</th>\n",
       "      <td>-0.885047</td>\n",
       "      <td>0.882342</td>\n",
       "      <td>-0.650049</td>\n",
       "      <td>-0.367684</td>\n",
       "    </tr>\n",
       "    <tr>\n",
       "      <th>MOS</th>\n",
       "      <td>-0.328883</td>\n",
       "      <td>0.441916</td>\n",
       "      <td>0.587652</td>\n",
       "      <td>-0.475075</td>\n",
       "    </tr>\n",
       "    <tr>\n",
       "      <th rowspan=\"2\" valign=\"top\">Childress</th>\n",
       "      <th>WRF</th>\n",
       "      <td>0.606404</td>\n",
       "      <td>-0.452604</td>\n",
       "      <td>0.834073</td>\n",
       "      <td>-0.649894</td>\n",
       "    </tr>\n",
       "    <tr>\n",
       "      <th>MOS</th>\n",
       "      <td>0.038253</td>\n",
       "      <td>-0.168527</td>\n",
       "      <td>0.298252</td>\n",
       "      <td>-0.794876</td>\n",
       "    </tr>\n",
       "    <tr>\n",
       "      <th rowspan=\"2\" valign=\"top\">Reese</th>\n",
       "      <th>WRF</th>\n",
       "      <td>1.072264</td>\n",
       "      <td>0.626380</td>\n",
       "      <td>0.549550</td>\n",
       "      <td>-0.143682</td>\n",
       "    </tr>\n",
       "    <tr>\n",
       "      <th>MOS</th>\n",
       "      <td>-0.580161</td>\n",
       "      <td>0.633863</td>\n",
       "      <td>-0.540406</td>\n",
       "      <td>-0.434136</td>\n",
       "    </tr>\n",
       "    <tr>\n",
       "      <th rowspan=\"2\" valign=\"top\">San Angelo</th>\n",
       "      <th>WRF</th>\n",
       "      <td>2.107913</td>\n",
       "      <td>0.733523</td>\n",
       "      <td>1.300856</td>\n",
       "      <td>0.546467</td>\n",
       "    </tr>\n",
       "    <tr>\n",
       "      <th>MOS</th>\n",
       "      <td>0.066994</td>\n",
       "      <td>0.139666</td>\n",
       "      <td>-1.489201</td>\n",
       "      <td>0.092602</td>\n",
       "    </tr>\n",
       "  </tbody>\n",
       "</table>"
      ],
      "text/plain": [
       "<IPython.core.display.HTML object>"
      ]
     },
     "execution_count": 12,
     "metadata": {},
     "output_type": "execute_result"
    }
   ],
   "source": [
    "HTML(style + df_html)"
   ]
  },
  {
   "cell_type": "code",
   "execution_count": 13,
   "metadata": {
    "collapsed": false
   },
   "outputs": [
    {
     "data": {
      "text/html": [
       "\n",
       "        <style>\n",
       "            table#id811251 {color: blue}\n",
       "        </style>\n",
       "        <table id=id811251  border=\"1\" class=\"dataframe\">\n",
       "  <thead>\n",
       "    <tr style=\"text-align: right;\">\n",
       "      <th></th>\n",
       "      <th></th>\n",
       "      <th>00 UTC</th>\n",
       "      <th>06 UTC</th>\n",
       "      <th>12 UTC</th>\n",
       "      <th>18 UTC</th>\n",
       "    </tr>\n",
       "  </thead>\n",
       "  <tbody>\n",
       "    <tr>\n",
       "      <th rowspan=\"2\" valign=\"top\">Midland</th>\n",
       "      <th>WRF</th>\n",
       "      <td>1.519593</td>\n",
       "      <td>0.886883</td>\n",
       "      <td>-0.633269</td>\n",
       "      <td>1.432492</td>\n",
       "    </tr>\n",
       "    <tr>\n",
       "      <th>MOS</th>\n",
       "      <td>-0.438961</td>\n",
       "      <td>-0.589999</td>\n",
       "      <td>0.585331</td>\n",
       "      <td>-0.857149</td>\n",
       "    </tr>\n",
       "    <tr>\n",
       "      <th rowspan=\"2\" valign=\"top\">Hereford</th>\n",
       "      <th>WRF</th>\n",
       "      <td>1.349844</td>\n",
       "      <td>0.963072</td>\n",
       "      <td>-0.578086</td>\n",
       "      <td>-0.660738</td>\n",
       "    </tr>\n",
       "    <tr>\n",
       "      <th>MOS</th>\n",
       "      <td>0.236955</td>\n",
       "      <td>-0.183058</td>\n",
       "      <td>0.973471</td>\n",
       "      <td>0.839803</td>\n",
       "    </tr>\n",
       "    <tr>\n",
       "      <th>Hobbs</th>\n",
       "      <th>WRF</th>\n",
       "      <td>-0.885047</td>\n",
       "      <td>0.882342</td>\n",
       "      <td>-0.650049</td>\n",
       "      <td>-0.367684</td>\n",
       "    </tr>\n",
       "  </tbody>\n",
       "</table>"
      ],
      "text/plain": [
       "<IPython.core.display.HTML object>"
      ]
     },
     "execution_count": 13,
     "metadata": {},
     "output_type": "execute_result"
    }
   ],
   "source": [
    "HTML_with_style(df.head())"
   ]
  },
  {
   "cell_type": "code",
   "execution_count": 14,
   "metadata": {
    "collapsed": false
   },
   "outputs": [
    {
     "data": {
      "text/html": [
       "<style>\n",
       "table#id745300 {color: red}\n",
       "</style><table id=id745300  border=\"1\" class=\"dataframe\">\n",
       "  <thead>\n",
       "    <tr style=\"text-align: right;\">\n",
       "      <th></th>\n",
       "      <th></th>\n",
       "      <th>00 UTC</th>\n",
       "      <th>06 UTC</th>\n",
       "      <th>12 UTC</th>\n",
       "      <th>18 UTC</th>\n",
       "    </tr>\n",
       "  </thead>\n",
       "  <tbody>\n",
       "    <tr>\n",
       "      <th rowspan=\"2\" valign=\"top\">Midland</th>\n",
       "      <th>WRF</th>\n",
       "      <td>1.519593</td>\n",
       "      <td>0.886883</td>\n",
       "      <td>-0.633269</td>\n",
       "      <td>1.432492</td>\n",
       "    </tr>\n",
       "    <tr>\n",
       "      <th>MOS</th>\n",
       "      <td>-0.438961</td>\n",
       "      <td>-0.589999</td>\n",
       "      <td>0.585331</td>\n",
       "      <td>-0.857149</td>\n",
       "    </tr>\n",
       "    <tr>\n",
       "      <th rowspan=\"2\" valign=\"top\">Hereford</th>\n",
       "      <th>WRF</th>\n",
       "      <td>1.349844</td>\n",
       "      <td>0.963072</td>\n",
       "      <td>-0.578086</td>\n",
       "      <td>-0.660738</td>\n",
       "    </tr>\n",
       "    <tr>\n",
       "      <th>MOS</th>\n",
       "      <td>0.236955</td>\n",
       "      <td>-0.183058</td>\n",
       "      <td>0.973471</td>\n",
       "      <td>0.839803</td>\n",
       "    </tr>\n",
       "    <tr>\n",
       "      <th>Hobbs</th>\n",
       "      <th>WRF</th>\n",
       "      <td>-0.885047</td>\n",
       "      <td>0.882342</td>\n",
       "      <td>-0.650049</td>\n",
       "      <td>-0.367684</td>\n",
       "    </tr>\n",
       "  </tbody>\n",
       "</table>"
      ],
      "text/plain": [
       "<IPython.core.display.HTML object>"
      ]
     },
     "execution_count": 14,
     "metadata": {},
     "output_type": "execute_result"
    }
   ],
   "source": [
    "HTML_with_style(df.head(), '<style>table {color: red}</style>')"
   ]
  },
  {
   "cell_type": "code",
   "execution_count": 15,
   "metadata": {
    "collapsed": false
   },
   "outputs": [
    {
     "data": {
      "text/html": [
       "<style>\n",
       "table#id494187 tr:nth-child(even) {color: green;}\n",
       "table#id494187 tr:nth-child(odd)  {color: aqua;}\n",
       "</style><table id=id494187  border=\"1\" class=\"dataframe\">\n",
       "  <thead>\n",
       "    <tr style=\"text-align: right;\">\n",
       "      <th></th>\n",
       "      <th></th>\n",
       "      <th>00 UTC</th>\n",
       "      <th>06 UTC</th>\n",
       "      <th>12 UTC</th>\n",
       "      <th>18 UTC</th>\n",
       "    </tr>\n",
       "  </thead>\n",
       "  <tbody>\n",
       "    <tr>\n",
       "      <th rowspan=\"2\" valign=\"top\">Midland</th>\n",
       "      <th>WRF</th>\n",
       "      <td>1.519593</td>\n",
       "      <td>0.886883</td>\n",
       "      <td>-0.633269</td>\n",
       "      <td>1.432492</td>\n",
       "    </tr>\n",
       "    <tr>\n",
       "      <th>MOS</th>\n",
       "      <td>-0.438961</td>\n",
       "      <td>-0.589999</td>\n",
       "      <td>0.585331</td>\n",
       "      <td>-0.857149</td>\n",
       "    </tr>\n",
       "    <tr>\n",
       "      <th rowspan=\"2\" valign=\"top\">Hereford</th>\n",
       "      <th>WRF</th>\n",
       "      <td>1.349844</td>\n",
       "      <td>0.963072</td>\n",
       "      <td>-0.578086</td>\n",
       "      <td>-0.660738</td>\n",
       "    </tr>\n",
       "    <tr>\n",
       "      <th>MOS</th>\n",
       "      <td>0.236955</td>\n",
       "      <td>-0.183058</td>\n",
       "      <td>0.973471</td>\n",
       "      <td>0.839803</td>\n",
       "    </tr>\n",
       "    <tr>\n",
       "      <th>Hobbs</th>\n",
       "      <th>WRF</th>\n",
       "      <td>-0.885047</td>\n",
       "      <td>0.882342</td>\n",
       "      <td>-0.650049</td>\n",
       "      <td>-0.367684</td>\n",
       "    </tr>\n",
       "  </tbody>\n",
       "</table>"
      ],
      "text/plain": [
       "<IPython.core.display.HTML object>"
      ]
     },
     "execution_count": 15,
     "metadata": {},
     "output_type": "execute_result"
    }
   ],
   "source": [
    "style = \"\"\"\n",
    "<style>\n",
    "    tr:nth-child(even) {color: green;}\n",
    "    tr:nth-child(odd)  {color: aqua;}\n",
    "</style>\n",
    "\"\"\"\n",
    "HTML_with_style(df.head(), style)"
   ]
  },
  {
   "cell_type": "code",
   "execution_count": 16,
   "metadata": {
    "collapsed": false
   },
   "outputs": [
    {
     "data": {
      "text/html": [
       "<style>\n",
       "table#id707731 tr:nth-child(even) {color: blue;}\n",
       "table#id707731 tr:nth-child(odd)  {color: red;}\n",
       "table#id707731 tr:hover {background-color: #f5f5f5}\n",
       "</style><table id=id707731  border=\"1\" class=\"dataframe\">\n",
       "  <thead>\n",
       "    <tr style=\"text-align: right;\">\n",
       "      <th></th>\n",
       "      <th></th>\n",
       "      <th>00 UTC</th>\n",
       "      <th>06 UTC</th>\n",
       "      <th>12 UTC</th>\n",
       "      <th>18 UTC</th>\n",
       "    </tr>\n",
       "  </thead>\n",
       "  <tbody>\n",
       "    <tr>\n",
       "      <th rowspan=\"2\" valign=\"top\">Midland</th>\n",
       "      <th>WRF</th>\n",
       "      <td>1.519593</td>\n",
       "      <td>0.886883</td>\n",
       "      <td>-0.633269</td>\n",
       "      <td>1.432492</td>\n",
       "    </tr>\n",
       "    <tr>\n",
       "      <th>MOS</th>\n",
       "      <td>-0.438961</td>\n",
       "      <td>-0.589999</td>\n",
       "      <td>0.585331</td>\n",
       "      <td>-0.857149</td>\n",
       "    </tr>\n",
       "    <tr>\n",
       "      <th rowspan=\"2\" valign=\"top\">Hereford</th>\n",
       "      <th>WRF</th>\n",
       "      <td>1.349844</td>\n",
       "      <td>0.963072</td>\n",
       "      <td>-0.578086</td>\n",
       "      <td>-0.660738</td>\n",
       "    </tr>\n",
       "    <tr>\n",
       "      <th>MOS</th>\n",
       "      <td>0.236955</td>\n",
       "      <td>-0.183058</td>\n",
       "      <td>0.973471</td>\n",
       "      <td>0.839803</td>\n",
       "    </tr>\n",
       "    <tr>\n",
       "      <th>Hobbs</th>\n",
       "      <th>WRF</th>\n",
       "      <td>-0.885047</td>\n",
       "      <td>0.882342</td>\n",
       "      <td>-0.650049</td>\n",
       "      <td>-0.367684</td>\n",
       "    </tr>\n",
       "  </tbody>\n",
       "</table>"
      ],
      "text/plain": [
       "<IPython.core.display.HTML object>"
      ]
     },
     "execution_count": 16,
     "metadata": {},
     "output_type": "execute_result"
    }
   ],
   "source": [
    "style = \"\"\"\n",
    "<style>\n",
    "    tr:nth-child(even) {color: blue;}\n",
    "    tr:nth-child(odd)  {color: red;}\n",
    "    tr:hover {background-color: #f5f5f5}\n",
    "</style>\n",
    "\"\"\"\n",
    "HTML_with_style(df.head(), style)"
   ]
  },
  {
   "cell_type": "code",
   "execution_count": null,
   "metadata": {
    "collapsed": true
   },
   "outputs": [],
   "source": []
  }
 ],
 "metadata": {
  "anaconda-cloud": {},
  "kernelspec": {
   "display_name": "Python [Root]",
   "language": "python",
   "name": "Python [Root]"
  },
  "language_info": {
   "codemirror_mode": {
    "name": "ipython",
    "version": 3
   },
   "file_extension": ".py",
   "mimetype": "text/x-python",
   "name": "python",
   "nbconvert_exporter": "python",
   "pygments_lexer": "ipython3",
   "version": "3.5.2"
  },
  "widgets": {
   "state": {},
   "version": "1.1.2"
  }
 },
 "nbformat": 4,
 "nbformat_minor": 1
}
